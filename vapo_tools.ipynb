{
 "cells": [
  {
   "cell_type": "markdown",
   "metadata": {},
   "source": [
    "This code is adapted from the [official VAPO tool calling notebook](https://github.com/GoogleCloudPlatform/generative-ai/blob/main/gemini/prompts/prompt_optimizer/vertex_ai_prompt_optimizer_sdk_tool_calling.ipynb) (Author: Ivan Nardini)\n",
    "\n",
    "It is intended as reference only and has not been tested to run in multiple environments."
   ]
  },
  {
   "cell_type": "markdown",
   "metadata": {},
   "source": [
    "### Authentication"
   ]
  },
  {
   "cell_type": "code",
   "execution_count": null,
   "metadata": {},
   "outputs": [],
   "source": [
    "# !gcloud auth application-default login - run this to add vertex credentials to your env\n"
   ]
  },
  {
   "cell_type": "markdown",
   "metadata": {},
   "source": [
    "### Initialize language model"
   ]
  },
  {
   "cell_type": "code",
   "execution_count": 1,
   "metadata": {},
   "outputs": [],
   "source": [
    "PROJECT_ID = \"vijay-sandbox-335018\"\n",
    "PROJECT_NUMBER = 607718892999\n",
    "REGION = \"us-central1\" "
   ]
  },
  {
   "cell_type": "code",
   "execution_count": null,
   "metadata": {},
   "outputs": [],
   "source": [
    "from google.cloud import aiplatform\n",
    "from vertexai.preview.generative_models import GenerativeModel\n",
    "from vertexai.generative_models import FunctionDeclaration, Tool, ToolConfig\n",
    "\n",
    "# Initialize Vertex AI\n",
    "aiplatform.init(project=PROJECT_ID, location=REGION)# Initialize the model\n",
    "lm = GenerativeModel(\n",
    "    model_name=\"gemini-2.0-flash-001\"\n",
    ")\n",
    "lm.generate_content(\"This is a test!\")\n",
    "\n"
   ]
  },
  {
   "cell_type": "markdown",
   "metadata": {},
   "source": [
    "### Define the tools"
   ]
  },
  {
   "cell_type": "code",
   "execution_count": 3,
   "metadata": {},
   "outputs": [],
   "source": [
    "from typing import Any\n",
    "\n",
    "def get_company_information_api(content: dict[str, Any]) -> str:\n",
    "    \"A function to simulate an API call to collect company information.\"\n",
    "\n",
    "    company_overviews = {\n",
    "        \"AAPL\": \"Apple maintains a robust financial position with substantial cash reserves and consistent profitability, fueled by its strong brand and loyal customer base. However, growth is slowing and the company faces competition.\",\n",
    "        \"ADBE\": \"Adobe financials are robust, driven by its successful transition to a subscription-based model for its creative and document cloud software.  Profitability and revenue growth are strong.\",\n",
    "        \"AMD\": \"AMD exhibits strong financial performance, gaining market share in the CPU and GPU markets.  Revenue growth and profitability are healthy, driven by strong product offerings.\",\n",
    "        \"AMZN\": \"Amazon financials are mixed, with its e-commerce business facing margin pressure while its cloud computing division (AWS) delivers strong profitability and growth. Its overall revenue remains high but profitability is a concern.\",\n",
    "        \"ASML\": \"ASML boasts a strong financial position due to its monopoly in the extreme ultraviolet lithography market, essential for advanced semiconductor manufacturing.  High profitability and growth are key strengths.\",\n",
    "        \"AVGO\": \"Broadcom maintains healthy financials, driven by its semiconductor and infrastructure software solutions. Acquisitions have played a role in its growth strategy, with consistent profitability and cash flow.\",\n",
    "        \"BABA\": \"Alibaba financials are substantial but facing challenges from regulatory scrutiny in China and increased competition.  E-commerce revenue remains strong but growth is slowing.\",\n",
    "        \"BKNG\": \"Booking Holdings financials are closely tied to the travel industry.  Revenue growth is recovering post-pandemic but profitability can fluctuate based on global travel trends.\",\n",
    "        \"CRM\": \"Salesforce shows robust revenue growth from its cloud-based CRM solutions.  Profitability is improving but competition remains strong.\",\n",
    "        \"CSCO\": \"Cisco financials show moderate growth, transitioning from hardware to software and services.  Profitability is stable but the company faces competition in the networking market.\",\n",
    "        \"GOOGL\": \"Alphabet exhibits strong financials driven by advertising revenue, though facing regulatory scrutiny.  Diversification into other ventures provides growth opportunities but profitability varies.\",\n",
    "        \"IBM\": \"IBM financials are in a state of transformation, shifting focus to hybrid cloud and AI.  Revenue growth is modest, with profitability impacted by legacy businesses.\",\n",
    "        \"INTU\": \"Intuit showcases healthy financials, benefiting from its strong position in tax and financial management software.  Revenue growth and profitability are consistent, fueled by recurring subscription revenue.\",\n",
    "        \"META\": \"Meta Platforms financial performance is tied closely to advertising revenue, facing headwinds from competition and changing privacy regulations.  Investments in the metaverse represent a long-term, high-risk bet.\",\n",
    "        \"MSFT\": \"Microsoft demonstrates healthy financials, benefiting from diversified revenue streams including cloud computing (Azure), software, and hardware.  The company exhibits consistent growth and profitability.\",\n",
    "        \"NFLX\": \"Netflix exhibits strong revenue but faces challenges in maintaining subscriber growth and managing content costs. Profitability varies, and competition in the streaming market is intense.\",\n",
    "        \"NOW\": \"ServiceNow demonstrates strong financials, fueled by its cloud-based workflow automation platform.  Revenue growth and profitability are high, reflecting increased enterprise adoption.\",\n",
    "        \"NVDA\": \"NVIDIA boasts strong financials, driven by its dominance in the GPU market for gaming, AI, and data centers.  High revenue growth and profitability are key strengths.\",\n",
    "        \"ORCL\": \"Oracle financials are in transition, shifting towards cloud-based services. Revenue growth is moderate, and profitability remains stable.  Legacy businesses still contribute significantly.\",\n",
    "        \"QCOM\": \"QUALCOMM financials show strong performance driven by its leadership in mobile chipsets and licensing.  Profitability is high, and growth is tied to the mobile market and 5G adoption.\",\n",
    "        \"SAP\": \"SAP demonstrates steady financials with its enterprise software solutions.  Transition to the cloud is ongoing and impacting revenue growth and profitability.\",\n",
    "        \"SMSN\": \"Samsung financials are diverse, reflecting its presence in various sectors including mobile phones, consumer electronics, and semiconductors. Profitability varies across divisions but the company holds significant cash reserves.\",\n",
    "        \"TCEHY\": \"Tencent financials are driven by its dominant position in the Chinese gaming and social media market. Revenue growth is strong but regulatory risks in China impact its performance.\",\n",
    "        \"TSLA\": \"Tesla financials show strong revenue growth driven by electric vehicle demand, but profitability remains volatile due to production and investment costs. The company high valuation reflects market optimism for future growth.\",\n",
    "        \"TSM\": \"TSMC, a dominant player in semiconductor manufacturing, showcases robust financials fueled by high demand for its advanced chips. Profitability is strong and the company enjoys a technologically advanced position.\",\n",
    "    }\n",
    "    return company_overviews.get(content[\"ticker\"], \"No company overwiew found\")\n",
    "\n",
    "\n",
    "def get_stock_price_api(content: dict[str, Any]) -> int:\n",
    "    \"A function to simulate an API call to collect most recent stock price for a given company.\"\n",
    "    stock_prices = {\n",
    "        \"AAPL\": 225,\n",
    "        \"ADBE\": 503,\n",
    "        \"AMD\": 134,\n",
    "        \"AMZN\": 202,\n",
    "        \"ASML\": 658,\n",
    "        \"AVGO\": 164,\n",
    "        \"BABA\": 88,\n",
    "        \"BKNG\": 4000,\n",
    "        \"CRM\": 325,\n",
    "        \"CSCO\": 57,\n",
    "        \"GOOGL\": 173,\n",
    "        \"IBM\": 201,\n",
    "        \"INTU\": 607,\n",
    "        \"META\": 553,\n",
    "        \"MSFT\": 415,\n",
    "        \"NFLX\": 823,\n",
    "        \"NOW\": 1000,\n",
    "        \"NVDA\": 141,\n",
    "        \"ORCL\": 183,\n",
    "        \"QCOM\": 160,\n",
    "        \"SAP\": 228,\n",
    "        \"SMSN\": 38,\n",
    "        \"TCEHY\": 51,\n",
    "        \"TSLA\": 302,\n",
    "        \"TSM\": 186,\n",
    "    }\n",
    "    return stock_prices.get(content[\"ticker\"], \"No stock price found\")\n",
    "\n",
    "\n",
    "def get_company_news_api(content: dict[str, Any]) -> str:\n",
    "    \"A function to simulate an API call to collect recent news for a given company.\"\n",
    "    news_data = {\n",
    "        \"AAPL\": \"Apple unveils new iPhone, market reaction muted amid concerns about slowing growth.\",\n",
    "        \"ADBE\": \"Adobe integrates AI features into Creative Suite, attracting creative professionals.\",\n",
    "        \"AMD\": \"AMD gains market share in server CPUs, competing with Intel.\",\n",
    "        \"AMZN\": \"Amazon stock dips after reporting lower-than-expected Q3 profits due to increased shipping costs.\",\n",
    "        \"ASML\": \"ASML benefits from high demand for advanced chip manufacturing equipment.\",\n",
    "        \"AVGO\": \"Broadcom announces new acquisition in the semiconductor space.\",\n",
    "        \"BABA\": \"Alibaba stock faces uncertainty amid ongoing regulatory scrutiny in China.\",\n",
    "        \"BKNG\": \"Booking Holdings stock recovers as travel demand rebounds post-pandemic.\",\n",
    "        \"CRM\": \"Salesforce launches new AI-powered CRM tools for enterprise customers.\",\n",
    "        \"CSCO\": \"Cisco stock rises after positive earnings report, focus on networking solutions.\",\n",
    "        \"GOOGL\": \"Alphabet announces new AI-powered search features, aiming to compete with Microsoft.\",\n",
    "        \"IBM\": \"IBM focuses on hybrid cloud solutions, showing steady growth in enterprise segment.\",\n",
    "        \"INTU\": \"Intuit stock dips after announcing price increases for its tax software.\",\n",
    "        \"META\": \"Meta shares rise after positive user growth figures in emerging markets.\",\n",
    "        \"MSFT\": \"Microsoft expands AI integration across its product suite, boosting investor confidence.\",\n",
    "        \"NFLX\": \"Netflix subscriber growth slows, competition heats up in streaming landscape.\",\n",
    "        \"NOW\": \"ServiceNow sees strong growth in its cloud-based workflow automation platform.\",\n",
    "        \"NVDA\": \"Nvidia stock jumps on strong earnings forecast, driven by AI demand.\",\n",
    "        \"ORCL\": \"Oracle cloud revenue continues strong growth, exceeding market expectations.\",\n",
    "        \"QCOM\": \"Qualcomm expands its 5G modem business, partnering with major smartphone manufacturers.\",\n",
    "        \"SAP\": \"SAP cloud transition continues, but faces challenges in attracting new clients.\",\n",
    "        \"SMSN\": \"Samsung unveils new foldable phones, looking to gain market share.\",\n",
    "        \"TCEHY\": \"Tencent faces regulatory pressure in China, impacting investor sentiment.\",\n",
    "        \"TSLA\": \"Tesla stock volatile after price cuts and production increases announced.\",\n",
    "        \"TSM\": \"TSMC reports record chip demand but warns of potential supply chain disruptions.\",\n",
    "    }\n",
    "    return news_data.get(content[\"ticker\"], \"No news available\")\n",
    "\n",
    "\n",
    "def get_company_sentiment_api(content: dict[str, Any]) -> str:\n",
    "    \"A function to simulate an API call to collect market company sentiment for a given company.\"\n",
    "\n",
    "    company_sentiment = {\n",
    "        \"AAPL\": \"Neutral\",\n",
    "        \"ADBE\": \"Neutral\",\n",
    "        \"AMD\": \"Neutral\",\n",
    "        \"AMZN\": \"Neutral\",\n",
    "        \"ASML\": \"Bearish/Undervalued\",\n",
    "        \"AVGO\": \"Neutral\",\n",
    "        \"BABA\": \"Neutral\",\n",
    "        \"BKNG\": \"Neutral\",\n",
    "        \"CRM\": \"Neutral\",\n",
    "        \"CSCO\": \"Neutral\",\n",
    "        \"GOOGL\": \"Neutral\",\n",
    "        \"IBM\": \"Neutral\",\n",
    "        \"INTU\": \"Mixed/Bullish\",\n",
    "        \"META\": \"Neutral\",\n",
    "        \"MSFT\": \"Neutral\",\n",
    "        \"NFLX\": \"Neutral\",\n",
    "        \"NOW\": \"Bullish/Overvalued\",\n",
    "        \"NVDA\": \"Neutral\",\n",
    "        \"ORCL\": \"Neutral\",\n",
    "        \"QCOM\": \"Neutral\",\n",
    "        \"SAP\": \"Neutral\",\n",
    "        \"SMSN\": \"Neutral\",\n",
    "        \"TCEHY\": \"Neutral\",\n",
    "        \"TSLA\": \"Slightly Overvalued\",\n",
    "        \"TSM\": \"Neutral\",\n",
    "    }\n",
    "    return company_sentiment.get(content[\"ticker\"], \"No sentiment available\")"
   ]
  },
  {
   "cell_type": "code",
   "execution_count": 4,
   "metadata": {},
   "outputs": [],
   "source": [
    "get_company_information = FunctionDeclaration(\n",
    "    name=\"get_company_information\",\n",
    "    description=\"Retrieves financial performance to provide an overview for a company.\",\n",
    "    parameters={\n",
    "        \"type\": \"object\",\n",
    "        \"properties\": {\n",
    "            \"ticker\": {\n",
    "                \"type\": \"string\",\n",
    "                \"description\": \"Stock ticker for a given company\",\n",
    "            }\n",
    "        },\n",
    "        \"required\": [\"ticker\"],\n",
    "    },\n",
    ")\n",
    "\n",
    "get_stock_price = FunctionDeclaration(\n",
    "    name=\"get_stock_price\",\n",
    "    description=\"Only returns the current stock price (in dollars) for a company.\",\n",
    "    parameters={\n",
    "        \"type\": \"object\",\n",
    "        \"properties\": {\n",
    "            \"ticker\": {\n",
    "                \"type\": \"integer\",\n",
    "                \"description\": \"Stock ticker for a company\",\n",
    "            }\n",
    "        },\n",
    "        \"required\": [\"ticker\"],\n",
    "    },\n",
    ")\n",
    "\n",
    "get_company_news = FunctionDeclaration(\n",
    "    name=\"get_company_news\",\n",
    "    description=\"Get the latest news headlines for a given company.\",\n",
    "    parameters={\n",
    "        \"type\": \"object\",\n",
    "        \"properties\": {\n",
    "            \"ticker\": {\n",
    "                \"type\": \"string\",\n",
    "                \"description\": \"Stock ticker for a company.\",\n",
    "            }\n",
    "        },\n",
    "        \"required\": [\"ticker\"],\n",
    "    },\n",
    ")\n",
    "\n",
    "get_company_sentiment = FunctionDeclaration(\n",
    "    name=\"get_company_sentiment\",\n",
    "    description=\"Returns the overall market sentiment for a company.\",\n",
    "    parameters={\n",
    "        \"type\": \"object\",\n",
    "        \"properties\": {\n",
    "            \"ticker\": {\n",
    "                \"type\": \"string\",\n",
    "                \"description\": \"Stock ticker for a company\",\n",
    "            },\n",
    "        },\n",
    "        \"required\": [\"ticker\"],\n",
    "    },\n",
    ")"
   ]
  },
  {
   "cell_type": "code",
   "execution_count": 5,
   "metadata": {},
   "outputs": [],
   "source": [
    "tools = Tool(\n",
    "    function_declarations=[\n",
    "        get_company_information,\n",
    "        get_stock_price,\n",
    "        get_company_news,\n",
    "        get_company_sentiment,\n",
    "    ]\n",
    ")\n",
    "\n",
    "tool_config = ToolConfig(\n",
    "    function_calling_config=ToolConfig.FunctionCallingConfig(\n",
    "        mode=ToolConfig.FunctionCallingConfig.Mode.ANY,\n",
    "        allowed_function_names=[\n",
    "            \"get_company_information\",\n",
    "            \"get_stock_price\",\n",
    "            \"get_company_news\",\n",
    "            \"get_company_sentiment\",\n",
    "        ],\n",
    "    )\n",
    ")\n",
    "\n",
    "function_map = {\n",
    "    \"get_company_information\": get_company_information_api,\n",
    "    \"get_stock_price\": get_stock_price_api,\n",
    "    \"get_company_news\": get_company_news_api,\n",
    "    \"get_company_sentiment\": get_company_sentiment_api,\n",
    "}"
   ]
  },
  {
   "cell_type": "markdown",
   "metadata": {},
   "source": [
    "### Seed Prompts"
   ]
  },
  {
   "cell_type": "code",
   "execution_count": 21,
   "metadata": {},
   "outputs": [],
   "source": [
    "def stage1_prompt(question):\n",
    "    return f\"\"\"\n",
    "    Determine the best tool to use based on the question.\n",
    "    Question: {question}\n",
    "\n",
    "    \"\"\"\n",
    "\n",
    "def stage2_prompt(question, tool_call_response):\n",
    "    return f\"\"\"\n",
    "    Answer the question using the tool call response.\n",
    "    Question: {question}\n",
    "    Tool call response: {tool_call_response}\n",
    "    \"\"\""
   ]
  },
  {
   "cell_type": "markdown",
   "metadata": {},
   "source": [
    "### Stage 1 Inference"
   ]
  },
  {
   "cell_type": "code",
   "execution_count": null,
   "metadata": {},
   "outputs": [],
   "source": [
    "def stage1_inference(prompt):\n",
    "    response = lm.generate_content(\n",
    "        prompt,\n",
    "        tools=[tools],\n",
    "        tool_config=tool_config\n",
    "    )\n",
    "    function_call = response.candidates[0].content.parts[0].function_call\n",
    "    function_name = function_call.name\n",
    "    #print(f\"Function name: {function_name}\")\n",
    "    if function_name in function_map:\n",
    "        function_args = function_call.args \n",
    "        #print(f\"Function args: {function_args}\")\n",
    "        api_response = function_map[function_name](function_args)\n",
    "    return api_response\n",
    "\n",
    "question = \"What is the current sentiment of Apple?\"\n",
    "tool_call_response = stage1_inference(stage1_prompt(question))\n",
    "print(tool_call_response)"
   ]
  },
  {
   "cell_type": "markdown",
   "metadata": {},
   "source": [
    "### Stage 2 Inference"
   ]
  },
  {
   "cell_type": "code",
   "execution_count": null,
   "metadata": {},
   "outputs": [],
   "source": [
    "def stage2_inference(question, tool_call_response):\n",
    "    response = lm.generate_content(\n",
    "        stage2_prompt(question, tool_call_response),\n",
    "    )\n",
    "    return response.candidates[0].content.parts[0].text\n",
    "\n",
    "stage2_inference(question, tool_call_response)"
   ]
  },
  {
   "cell_type": "markdown",
   "metadata": {},
   "source": [
    "### Multi stage inference"
   ]
  },
  {
   "cell_type": "code",
   "execution_count": null,
   "metadata": {},
   "outputs": [],
   "source": [
    "def multi_stage_inference(stage_1_prompt, question):\n",
    "    tool_call_response = stage1_inference(stage_1_prompt)\n",
    "    answer = stage2_inference(question, tool_call_response)\n",
    "    return answer\n",
    "\n",
    "multi_stage_inference(stage1_prompt(question), question)"
   ]
  },
  {
   "cell_type": "markdown",
   "metadata": {},
   "source": [
    "### Setup the train and test datasets\n",
    "\n",
    "\n",
    "\n",
    "\n",
    "\n"
   ]
  },
  {
   "cell_type": "code",
   "execution_count": 10,
   "metadata": {},
   "outputs": [],
   "source": [
    "import dspy\n",
    "import pandas as pd\n",
    "from sklearn.model_selection import train_test_split\n",
    "INPUT_DATA_FILE_URI = 'gs://github-repo/prompts/prompt_optimizer/qa_tool_calls_dataset.jsonl'\n",
    "df = pd.read_json(INPUT_DATA_FILE_URI, lines=True)"
   ]
  },
  {
   "cell_type": "code",
   "execution_count": 11,
   "metadata": {},
   "outputs": [],
   "source": [
    "trainset, testset = train_test_split(\n",
    "    df, test_size=0.8, random_state=8\n",
    ")"
   ]
  },
  {
   "cell_type": "code",
   "execution_count": null,
   "metadata": {},
   "outputs": [],
   "source": [
    "trainset.head()"
   ]
  },
  {
   "cell_type": "markdown",
   "metadata": {},
   "source": [
    "### Define Evaluation Metric/Establish Baseline\n",
    "\n",
    "\n",
    "\n",
    "\n",
    "\n"
   ]
  },
  {
   "cell_type": "code",
   "execution_count": null,
   "metadata": {},
   "outputs": [],
   "source": [
    "def evaluate_stage1(stage_1_prompt_fn, dataset):\n",
    "    scores = []\n",
    "    for _, row in dataset.iterrows():\n",
    "        pred = stage1_inference(stage_1_prompt_fn(row['question']))\n",
    "        scores.append(pred == row['tool_call_response'])\n",
    "        print(pred)\n",
    "        print(row['tool_call_response'])\n",
    "    return sum(scores) / len(scores)\n",
    "\n",
    "evaluate_stage1(stage1_prompt, testset)"
   ]
  },
  {
   "cell_type": "code",
   "execution_count": 15,
   "metadata": {},
   "outputs": [],
   "source": [
    "dspy.configure(lm=dspy.LM('vertex_ai/gemini-2.0-flash-001'))\n",
    "def ai_accuracy(answer, pred, trace=None):\n",
    "    \"\"\"Use LLM to check if the predicted answer contains the same information as the ground truth answer.\"\"\"\n",
    "    question = f\"Does the predicted answer contain the information in the ground truth answer? It is ok if the predicted answer is a superset and contains more information than the ground truth answer.\"\n",
    "    signature = \"question: str, ground_truth_answer: str, predicted_answer: str -> match: bool\"\n",
    "    score =dspy.Predict(signature)(\n",
    "       question=question, \n",
    "       ground_truth_answer=answer, \n",
    "       predicted_answer=pred)\n",
    "\n",
    "    return score.match"
   ]
  },
  {
   "cell_type": "code",
   "execution_count": null,
   "metadata": {},
   "outputs": [],
   "source": [
    "def evaluate_multistage(stage_1_prompt_fn, dataset):\n",
    "    scores = []\n",
    "    for _, row in dataset.iterrows():\n",
    "        pred = multi_stage_inference(stage_1_prompt_fn(row['question']), row['question'])\n",
    "        score = ai_accuracy(row['answer'], pred)\n",
    "        scores.append(score)\n",
    "        print(pred)\n",
    "        print(row['answer'])\n",
    "    return sum(scores) / len(scores)\n",
    "\n",
    "evaluate_multistage(stage1_prompt, testset)"
   ]
  },
  {
   "cell_type": "markdown",
   "metadata": {},
   "source": [
    "### Evaluate Optimized\n",
    "\n",
    "Refer to [the official VAPO tool calling notebook](https://github.com/GoogleCloudPlatform/generative-ai/blob/main/gemini/prompts/prompt_optimizer/vertex_ai_prompt_optimizer_sdk_tool_calling.ipynb) for the process to arrive at the optimized prompt."
   ]
  },
  {
   "cell_type": "code",
   "execution_count": null,
   "metadata": {},
   "outputs": [],
   "source": [
    "def stage1_prompt_optimized(question):\n",
    "    return f\"\"\"\n",
    "    To provide the most accurate response to the given question, determine and employ the most suitable tools.\n",
    "    Question: {question}\n",
    "\n",
    "    \"\"\"\n",
    "evaluate_stage1(stage1_prompt_optimized, testset)"
   ]
  },
  {
   "cell_type": "code",
   "execution_count": null,
   "metadata": {},
   "outputs": [],
   "source": [
    "evaluate_multistage(stage1_prompt_optimized, testset)"
   ]
  }
 ],
 "metadata": {
  "kernelspec": {
   "display_name": "venv",
   "language": "python",
   "name": "python3"
  },
  "language_info": {
   "codemirror_mode": {
    "name": "ipython",
    "version": 3
   },
   "file_extension": ".py",
   "mimetype": "text/x-python",
   "name": "python",
   "nbconvert_exporter": "python",
   "pygments_lexer": "ipython3",
   "version": "3.12.9"
  }
 },
 "nbformat": 4,
 "nbformat_minor": 2
}
