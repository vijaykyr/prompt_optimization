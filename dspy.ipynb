{
 "cells": [
  {
   "cell_type": "markdown",
   "metadata": {},
   "source": [
    "This code is intended for reference only and has not been tested to run in multiple environments."
   ]
  },
  {
   "cell_type": "markdown",
   "metadata": {},
   "source": [
    "### Authentication"
   ]
  },
  {
   "cell_type": "code",
   "execution_count": 14,
   "metadata": {},
   "outputs": [],
   "source": [
    "# !gcloud auth application-default login - run this to add vertex credentials to your env\n"
   ]
  },
  {
   "cell_type": "markdown",
   "metadata": {},
   "source": [
    "### Imports"
   ]
  },
  {
   "cell_type": "code",
   "execution_count": 18,
   "metadata": {},
   "outputs": [],
   "source": [
    "import dspy\n",
    "import pandas as pd\n",
    "from sklearn.model_selection import train_test_split"
   ]
  },
  {
   "cell_type": "markdown",
   "metadata": {},
   "source": [
    "### Initialize language model"
   ]
  },
  {
   "cell_type": "code",
   "execution_count": null,
   "metadata": {},
   "outputs": [],
   "source": [
    "\n",
    "lm = dspy.LM('vertex_ai/gemini-2.0-flash-001')\n",
    "dspy.configure(lm=lm)"
   ]
  },
  {
   "cell_type": "code",
   "execution_count": null,
   "metadata": {},
   "outputs": [],
   "source": [
    "lm(\"This is a test!\")"
   ]
  },
  {
   "cell_type": "markdown",
   "metadata": {},
   "source": [
    "### Define the tools"
   ]
  },
  {
   "cell_type": "code",
   "execution_count": 86,
   "metadata": {},
   "outputs": [],
   "source": [
    "def get_company_information_api(ticker_symbol: str) -> str:\n",
    "    \"A function to simulate an API call to collect company information.\"\n",
    "\n",
    "    company_overviews = {\n",
    "        \"AAPL\": \"Apple maintains a robust financial position with substantial cash reserves and consistent profitability, fueled by its strong brand and loyal customer base. However, growth is slowing and the company faces competition.\",\n",
    "        \"ADBE\": \"Adobe financials are robust, driven by its successful transition to a subscription-based model for its creative and document cloud software.  Profitability and revenue growth are strong.\",\n",
    "        \"AMD\": \"AMD exhibits strong financial performance, gaining market share in the CPU and GPU markets.  Revenue growth and profitability are healthy, driven by strong product offerings.\",\n",
    "        \"AMZN\": \"Amazon financials are mixed, with its e-commerce business facing margin pressure while its cloud computing division (AWS) delivers strong profitability and growth. Its overall revenue remains high but profitability is a concern.\",\n",
    "        \"ASML\": \"ASML boasts a strong financial position due to its monopoly in the extreme ultraviolet lithography market, essential for advanced semiconductor manufacturing.  High profitability and growth are key strengths.\",\n",
    "        \"AVGO\": \"Broadcom maintains healthy financials, driven by its semiconductor and infrastructure software solutions. Acquisitions have played a role in its growth strategy, with consistent profitability and cash flow.\",\n",
    "        \"BABA\": \"Alibaba financials are substantial but facing challenges from regulatory scrutiny in China and increased competition.  E-commerce revenue remains strong but growth is slowing.\",\n",
    "        \"BKNG\": \"Booking Holdings financials are closely tied to the travel industry.  Revenue growth is recovering post-pandemic but profitability can fluctuate based on global travel trends.\",\n",
    "        \"CRM\": \"Salesforce shows robust revenue growth from its cloud-based CRM solutions.  Profitability is improving but competition remains strong.\",\n",
    "        \"CSCO\": \"Cisco financials show moderate growth, transitioning from hardware to software and services.  Profitability is stable but the company faces competition in the networking market.\",\n",
    "        \"GOOGL\": \"Alphabet exhibits strong financials driven by advertising revenue, though facing regulatory scrutiny.  Diversification into other ventures provides growth opportunities but profitability varies.\",\n",
    "        \"IBM\": \"IBM financials are in a state of transformation, shifting focus to hybrid cloud and AI.  Revenue growth is modest, with profitability impacted by legacy businesses.\",\n",
    "        \"INTU\": \"Intuit showcases healthy financials, benefiting from its strong position in tax and financial management software.  Revenue growth and profitability are consistent, fueled by recurring subscription revenue.\",\n",
    "        \"META\": \"Meta Platforms financial performance is tied closely to advertising revenue, facing headwinds from competition and changing privacy regulations.  Investments in the metaverse represent a long-term, high-risk bet.\",\n",
    "        \"MSFT\": \"Microsoft demonstrates healthy financials, benefiting from diversified revenue streams including cloud computing (Azure), software, and hardware.  The company exhibits consistent growth and profitability.\",\n",
    "        \"NFLX\": \"Netflix exhibits strong revenue but faces challenges in maintaining subscriber growth and managing content costs. Profitability varies, and competition in the streaming market is intense.\",\n",
    "        \"NOW\": \"ServiceNow demonstrates strong financials, fueled by its cloud-based workflow automation platform.  Revenue growth and profitability are high, reflecting increased enterprise adoption.\",\n",
    "        \"NVDA\": \"NVIDIA boasts strong financials, driven by its dominance in the GPU market for gaming, AI, and data centers.  High revenue growth and profitability are key strengths.\",\n",
    "        \"ORCL\": \"Oracle financials are in transition, shifting towards cloud-based services. Revenue growth is moderate, and profitability remains stable.  Legacy businesses still contribute significantly.\",\n",
    "        \"QCOM\": \"QUALCOMM financials show strong performance driven by its leadership in mobile chipsets and licensing.  Profitability is high, and growth is tied to the mobile market and 5G adoption.\",\n",
    "        \"SAP\": \"SAP demonstrates steady financials with its enterprise software solutions.  Transition to the cloud is ongoing and impacting revenue growth and profitability.\",\n",
    "        \"SMSN\": \"Samsung financials are diverse, reflecting its presence in various sectors including mobile phones, consumer electronics, and semiconductors. Profitability varies across divisions but the company holds significant cash reserves.\",\n",
    "        \"TCEHY\": \"Tencent financials are driven by its dominant position in the Chinese gaming and social media market. Revenue growth is strong but regulatory risks in China impact its performance.\",\n",
    "        \"TSLA\": \"Tesla financials show strong revenue growth driven by electric vehicle demand, but profitability remains volatile due to production and investment costs. The company high valuation reflects market optimism for future growth.\",\n",
    "        \"TSM\": \"TSMC, a dominant player in semiconductor manufacturing, showcases robust financials fueled by high demand for its advanced chips. Profitability is strong and the company enjoys a technologically advanced position.\",\n",
    "    }\n",
    "    return company_overviews.get(ticker_symbol, \"No company overwiew found\")\n",
    "\n",
    "\n",
    "def get_stock_price_api(ticker_symbol: str) -> int:\n",
    "    \"A function to simulate an API call to collect most recent stock price for a given company.\"\n",
    "    stock_prices = {\n",
    "        \"AAPL\": 225,\n",
    "        \"ADBE\": 503,\n",
    "        \"AMD\": 134,\n",
    "        \"AMZN\": 202,\n",
    "        \"ASML\": 658,\n",
    "        \"AVGO\": 164,\n",
    "        \"BABA\": 88,\n",
    "        \"BKNG\": 4000,\n",
    "        \"CRM\": 325,\n",
    "        \"CSCO\": 57,\n",
    "        \"GOOGL\": 173,\n",
    "        \"IBM\": 201,\n",
    "        \"INTU\": 607,\n",
    "        \"META\": 553,\n",
    "        \"MSFT\": 415,\n",
    "        \"NFLX\": 823,\n",
    "        \"NOW\": 1000,\n",
    "        \"NVDA\": 141,\n",
    "        \"ORCL\": 183,\n",
    "        \"QCOM\": 160,\n",
    "        \"SAP\": 228,\n",
    "        \"SMSN\": 38,\n",
    "        \"TCEHY\": 51,\n",
    "        \"TSLA\": 302,\n",
    "        \"TSM\": 186,\n",
    "    }\n",
    "    return stock_prices.get(ticker_symbol, \"No stock price found\")\n",
    "\n",
    "\n",
    "def get_company_news_api(ticker_symbol: str) -> str:\n",
    "    \"A function to simulate an API call to collect recent news for a given company.\"\n",
    "    news_data = {\n",
    "        \"AAPL\": \"Apple unveils new iPhone, market reaction muted amid concerns about slowing growth.\",\n",
    "        \"ADBE\": \"Adobe integrates AI features into Creative Suite, attracting creative professionals.\",\n",
    "        \"AMD\": \"AMD gains market share in server CPUs, competing with Intel.\",\n",
    "        \"AMZN\": \"Amazon stock dips after reporting lower-than-expected Q3 profits due to increased shipping costs.\",\n",
    "        \"ASML\": \"ASML benefits from high demand for advanced chip manufacturing equipment.\",\n",
    "        \"AVGO\": \"Broadcom announces new acquisition in the semiconductor space.\",\n",
    "        \"BABA\": \"Alibaba stock faces uncertainty amid ongoing regulatory scrutiny in China.\",\n",
    "        \"BKNG\": \"Booking Holdings stock recovers as travel demand rebounds post-pandemic.\",\n",
    "        \"CRM\": \"Salesforce launches new AI-powered CRM tools for enterprise customers.\",\n",
    "        \"CSCO\": \"Cisco stock rises after positive earnings report, focus on networking solutions.\",\n",
    "        \"GOOGL\": \"Alphabet announces new AI-powered search features, aiming to compete with Microsoft.\",\n",
    "        \"IBM\": \"IBM focuses on hybrid cloud solutions, showing steady growth in enterprise segment.\",\n",
    "        \"INTU\": \"Intuit stock dips after announcing price increases for its tax software.\",\n",
    "        \"META\": \"Meta shares rise after positive user growth figures in emerging markets.\",\n",
    "        \"MSFT\": \"Microsoft expands AI integration across its product suite, boosting investor confidence.\",\n",
    "        \"NFLX\": \"Netflix subscriber growth slows, competition heats up in streaming landscape.\",\n",
    "        \"NOW\": \"ServiceNow sees strong growth in its cloud-based workflow automation platform.\",\n",
    "        \"NVDA\": \"Nvidia stock jumps on strong earnings forecast, driven by AI demand.\",\n",
    "        \"ORCL\": \"Oracle cloud revenue continues strong growth, exceeding market expectations.\",\n",
    "        \"QCOM\": \"Qualcomm expands its 5G modem business, partnering with major smartphone manufacturers.\",\n",
    "        \"SAP\": \"SAP cloud transition continues, but faces challenges in attracting new clients.\",\n",
    "        \"SMSN\": \"Samsung unveils new foldable phones, looking to gain market share.\",\n",
    "        \"TCEHY\": \"Tencent faces regulatory pressure in China, impacting investor sentiment.\",\n",
    "        \"TSLA\": \"Tesla stock volatile after price cuts and production increases announced.\",\n",
    "        \"TSM\": \"TSMC reports record chip demand but warns of potential supply chain disruptions.\",\n",
    "    }\n",
    "    return news_data.get(ticker_symbol, \"No news available\")\n",
    "\n",
    "\n",
    "def get_company_sentiment_api(ticker_symbol: str) -> str:\n",
    "    \"A function to simulate an API call to collect market company sentiment for a given company.\"\n",
    "\n",
    "    company_sentiment = {\n",
    "        \"AAPL\": \"Neutral\",\n",
    "        \"ADBE\": \"Neutral\",\n",
    "        \"AMD\": \"Neutral\",\n",
    "        \"AMZN\": \"Neutral\",\n",
    "        \"ASML\": \"Bearish/Undervalued\",\n",
    "        \"AVGO\": \"Neutral\",\n",
    "        \"BABA\": \"Neutral\",\n",
    "        \"BKNG\": \"Neutral\",\n",
    "        \"CRM\": \"Neutral\",\n",
    "        \"CSCO\": \"Neutral\",\n",
    "        \"GOOGL\": \"Neutral\",\n",
    "        \"IBM\": \"Neutral\",\n",
    "        \"INTU\": \"Mixed/Bullish\",\n",
    "        \"META\": \"Neutral\",\n",
    "        \"MSFT\": \"Neutral\",\n",
    "        \"NFLX\": \"Neutral\",\n",
    "        \"NOW\": \"Bullish/Overvalued\",\n",
    "        \"NVDA\": \"Neutral\",\n",
    "        \"ORCL\": \"Neutral\",\n",
    "        \"QCOM\": \"Neutral\",\n",
    "        \"SAP\": \"Neutral\",\n",
    "        \"SMSN\": \"Neutral\",\n",
    "        \"TCEHY\": \"Neutral\",\n",
    "        \"TSLA\": \"Slightly Overvalued\",\n",
    "        \"TSM\": \"Neutral\",\n",
    "    }\n",
    "    return company_sentiment.get(ticker_symbol, \"No sentiment available\")"
   ]
  },
  {
   "cell_type": "markdown",
   "metadata": {},
   "source": [
    "### Define the ReAct module"
   ]
  },
  {
   "cell_type": "code",
   "execution_count": 110,
   "metadata": {},
   "outputs": [],
   "source": [
    "react = dspy.ReAct(\n",
    "    'question -> answer', \n",
    "    tools=[get_company_information_api, get_stock_price_api, get_company_news_api, get_company_sentiment_api],\n",
    "    max_iters=3 # max number of ReAct cycles (thought -> tool -> observation)\n",
    ")"
   ]
  },
  {
   "cell_type": "code",
   "execution_count": null,
   "metadata": {},
   "outputs": [],
   "source": [
    "react(question=\"What is the stock price of Apple?\")"
   ]
  },
  {
   "cell_type": "code",
   "execution_count": null,
   "metadata": {},
   "outputs": [],
   "source": [
    "react(question=\"What is the general outlook on NVDA's future performance in the market?\")"
   ]
  },
  {
   "cell_type": "code",
   "execution_count": null,
   "metadata": {},
   "outputs": [],
   "source": [
    "dspy.inspect_history(n=2)"
   ]
  },
  {
   "cell_type": "markdown",
   "metadata": {},
   "source": [
    "### Setup the train and test datasets\n",
    "\n",
    "\n",
    "\n",
    "\n",
    "\n"
   ]
  },
  {
   "cell_type": "code",
   "execution_count": null,
   "metadata": {},
   "outputs": [],
   "source": [
    "INPUT_DATA_FILE_URI = 'gs://github-repo/prompts/prompt_optimizer/qa_tool_calls_dataset.jsonl'\n",
    "df = pd.read_json(INPUT_DATA_FILE_URI, lines=True)\n",
    "dspy_formatted_dataset = [dspy.Example(question=x[\"question\"], answer=x[\"answer\"]).with_inputs(\"question\") for x in df.to_dict(orient=\"records\")]\n",
    "print(f\"Length of dspy_formatted_dataset: {len(dspy_formatted_dataset)}\")\n",
    "print(f\"First example:\\n {dspy_formatted_dataset[0]}\")"
   ]
  },
  {
   "cell_type": "markdown",
   "metadata": {},
   "source": [
    "Note the test size is 80% of the data and train is 20% of the data. This is the opposite of traditional machine learning datasets but is recommended for prompt optimization."
   ]
  },
  {
   "cell_type": "code",
   "execution_count": null,
   "metadata": {},
   "outputs": [],
   "source": [
    "trainset, testset = train_test_split(\n",
    "    dspy_formatted_dataset, test_size=0.8, random_state=8\n",
    ")\n",
    "trainset[0]"
   ]
  },
  {
   "cell_type": "markdown",
   "metadata": {},
   "source": [
    "### Define Evaluation Metric/Establish Baseline\n",
    "\n",
    "\n",
    "\n",
    "\n",
    "\n"
   ]
  },
  {
   "cell_type": "code",
   "execution_count": 116,
   "metadata": {},
   "outputs": [],
   "source": [
    "def ai_accuracy(example, pred, trace=None):\n",
    "    \"\"\"Use LLM to check if the predicted answer contains the same information as the ground truth answer.\"\"\"\n",
    "    question = f\"Does the predicted answer contain the information in the ground truth answer? It is ok if the predicted answer is a supserset and contains more information than the ground truth answer.\"\n",
    "    signature = \"question: str, ground_truth_answer: str, predicted_answer: str -> match: bool\"\n",
    "    score =dspy.Predict(signature)(\n",
    "       question=question, \n",
    "       ground_truth_answer=example.answer, \n",
    "       predicted_answer=pred)\n",
    "\n",
    "    return score.match"
   ]
  },
  {
   "cell_type": "code",
   "execution_count": null,
   "metadata": {},
   "outputs": [],
   "source": [
    "evaluator = dspy.evaluate.Evaluate(\n",
    "    devset=testset,\n",
    "    metric=ai_accuracy,\n",
    "    num_threads=4,\n",
    "    display_progress=True,\n",
    "    display_table=10,\n",
    "    return_outputs=True\n",
    ")\n",
    "results = evaluator(react)"
   ]
  },
  {
   "cell_type": "code",
   "execution_count": null,
   "metadata": {},
   "outputs": [],
   "source": [
    "# Print examples where AI accuracy was False\n",
    "def print_misses(results):\n",
    "    for example, prediction, result in results[1]:\n",
    "        if result == False:\n",
    "            print(f\"\\nQuestion: {example.question}\")\n",
    "            print(f\"Ground Truth: {example.answer}\")\n",
    "            print(f\"Prediction: {prediction.answer}\")\n",
    "            print(f\"AI Accuracy: {result}\")\n",
    "            print(\"-\" * 80)\n",
    "print_misses(results)"
   ]
  },
  {
   "cell_type": "markdown",
   "metadata": {},
   "source": [
    "### Optimize"
   ]
  },
  {
   "cell_type": "code",
   "execution_count": null,
   "metadata": {},
   "outputs": [],
   "source": [
    "tp = dspy.COPRO(metric=ai_accuracy,breadth=8, depth=3)\n",
    "kwargs = dict(num_threads=64, display_progress=True) # Used in Evaluate class in the optimization process\n",
    "optimized_react = tp.compile(react, trainset=trainset, eval_kwargs=kwargs)"
   ]
  },
  {
   "cell_type": "code",
   "execution_count": null,
   "metadata": {},
   "outputs": [],
   "source": [
    "optimized_results = evaluator(optimized_react)"
   ]
  },
  {
   "cell_type": "code",
   "execution_count": null,
   "metadata": {},
   "outputs": [],
   "source": [
    "print_misses(optimized_results)\n"
   ]
  },
  {
   "cell_type": "code",
   "execution_count": null,
   "metadata": {},
   "outputs": [],
   "source": [
    "optimized_react(question=\"What is the general outlook on NVDA's future performance in the market?\")"
   ]
  },
  {
   "cell_type": "code",
   "execution_count": null,
   "metadata": {},
   "outputs": [],
   "source": [
    "dspy.inspect_history(n=2)"
   ]
  }
 ],
 "metadata": {
  "kernelspec": {
   "display_name": "venv",
   "language": "python",
   "name": "python3"
  },
  "language_info": {
   "codemirror_mode": {
    "name": "ipython",
    "version": 3
   },
   "file_extension": ".py",
   "mimetype": "text/x-python",
   "name": "python",
   "nbconvert_exporter": "python",
   "pygments_lexer": "ipython3",
   "version": "3.12.9"
  }
 },
 "nbformat": 4,
 "nbformat_minor": 2
}
